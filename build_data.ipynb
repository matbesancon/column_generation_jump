{
 "cells": [
  {
   "cell_type": "code",
   "execution_count": 1,
   "metadata": {
    "collapsed": true
   },
   "outputs": [],
   "source": [
    "import Distributions\n",
    "import JSON"
   ]
  },
  {
   "cell_type": "code",
   "execution_count": 2,
   "metadata": {},
   "outputs": [
    {
     "data": {
      "text/plain": [
       "Distributions.Poisson{Float64}(λ=40.0)"
      ]
     },
     "execution_count": 2,
     "metadata": {},
     "output_type": "execute_result"
    }
   ],
   "source": [
    "const maxwidth  = 100.0\n",
    "const roll_cost = 500.0\n",
    "const nwidths = 20\n",
    "const cost_per_length = roll_cost / maxwidth\n",
    "width_dst = Distributions.Exponential(maxwidth / 3)\n",
    "demand_dst = Distributions.Poisson(40)"
   ]
  },
  {
   "cell_type": "code",
   "execution_count": 3,
   "metadata": {
    "collapsed": true
   },
   "outputs": [],
   "source": [
    "srand(3)\n",
    "widths = sort([min(round(rand(width_dst),2) + 5, maxwidth *0.75) for _ in 1:nwidths], rev=true)\n",
    "prices = [\n",
    "    w * cost_per_length * (r*0.5+0.25) for (r,w) in zip(rand(nwidths), widths)\n",
    "];\n",
    "demand = [rand(demand_dst) for _ in 1:nwidths];"
   ]
  },
  {
   "cell_type": "code",
   "execution_count": 4,
   "metadata": {},
   "outputs": [
    {
     "data": {
      "text/plain": [
       "601"
      ]
     },
     "execution_count": 4,
     "metadata": {},
     "output_type": "execute_result"
    }
   ],
   "source": [
    "open(\"data.json\", \"w\") do f\n",
    "    text_data = JSON.json(Dict(\"demand\" => demand, \"maxwidth\"=> maxwidth, \"cost\"=>roll_cost, \"widths\"=>widths, \"prices\"=>prices))\n",
    "    write(f, text_data)\n",
    "end"
   ]
  },
  {
   "cell_type": "code",
   "execution_count": null,
   "metadata": {
    "collapsed": true
   },
   "outputs": [],
   "source": []
  }
 ],
 "metadata": {
  "kernelspec": {
   "display_name": "Julia 0.6.2",
   "language": "julia",
   "name": "julia-0.6"
  },
  "language_info": {
   "file_extension": ".jl",
   "mimetype": "application/julia",
   "name": "julia",
   "version": "0.6.2"
  }
 },
 "nbformat": 4,
 "nbformat_minor": 2
}
