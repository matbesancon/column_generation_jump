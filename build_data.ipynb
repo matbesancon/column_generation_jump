{
 "cells": [
  {
   "cell_type": "code",
   "execution_count": 1,
   "metadata": {
    "collapsed": true
   },
   "outputs": [
    {
     "data": {
      "text/plain": [
       "\"/home/mbesancon/Documents/CTests/column_generation_jump/Project.toml\""
      ]
     },
     "execution_count": 1,
     "metadata": {},
     "output_type": "execute_result"
    }
   ],
   "source": [
    "import Pkg\n",
    "Pkg.activate(\".\")"
   ]
  },
  {
   "cell_type": "code",
   "execution_count": 2,
   "metadata": {
    "collapsed": true
   },
   "outputs": [],
   "source": [
    "import Distributions\n",
    "import JSON\n",
    "import Random"
   ]
  },
  {
   "cell_type": "code",
   "execution_count": 3,
   "metadata": {},
   "outputs": [
    {
     "data": {
      "text/plain": [
       "Distributions.Poisson{Float64}(λ=40.0)"
      ]
     },
     "execution_count": 3,
     "metadata": {},
     "output_type": "execute_result"
    }
   ],
   "source": [
    "const maxwidth  = 100.0\n",
    "const roll_cost = 500.0\n",
    "const nwidths = 20\n",
    "const cost_per_length = roll_cost / maxwidth\n",
    "const width_dst = Distributions.Exponential(maxwidth / 3)\n",
    "const demand_dst = Distributions.Poisson(40)"
   ]
  },
  {
   "cell_type": "code",
   "execution_count": 4,
   "metadata": {
    "collapsed": true
   },
   "outputs": [],
   "source": [
    "Random.seed!(3)\n",
    "widths = sort!([min(round(rand(width_dst), digits = 2) + 5, maxwidth * 0.75) for _ in 1:nwidths], rev=true)\n",
    "prices = [\n",
    "    w * cost_per_length * (r*0.5+0.25) for (r,w) in zip(rand(nwidths), widths)\n",
    "];\n",
    "demand = [rand(demand_dst) for _ in 1:nwidths];"
   ]
  },
  {
   "cell_type": "code",
   "execution_count": 5,
   "metadata": {},
   "outputs": [
    {
     "data": {
      "text/plain": [
       "601"
      ]
     },
     "execution_count": 5,
     "metadata": {},
     "output_type": "execute_result"
    }
   ],
   "source": [
    "open(\"data.json\", \"w\") do f\n",
    "    text_data = JSON.json(Dict(\"demand\" => demand, \"maxwidth\"=> maxwidth, \"cost\"=>roll_cost, \"widths\"=>widths, \"prices\"=>prices))\n",
    "    write(f, text_data)\n",
    "end"
   ]
  },
  {
   "cell_type": "code",
   "execution_count": null,
   "metadata": {},
   "outputs": [],
   "source": []
  }
 ],
 "metadata": {
  "kernelspec": {
   "display_name": "Julia 1.1.1",
   "language": "julia",
   "name": "julia-1.1"
  },
  "language_info": {
   "file_extension": ".jl",
   "mimetype": "application/julia",
   "name": "julia",
   "version": "1.1.1"
  }
 },
 "nbformat": 4,
 "nbformat_minor": 2
}
