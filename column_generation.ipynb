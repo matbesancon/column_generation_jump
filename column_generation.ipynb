{
 "cells": [
  {
   "cell_type": "code",
   "execution_count": 1,
   "metadata": {},
   "outputs": [],
   "source": [
    "using JuMP\n",
    "using Cbc: CbcSolver\n",
    "using Clp: ClpSolver\n",
    "import JSON"
   ]
  },
  {
   "cell_type": "code",
   "execution_count": 2,
   "metadata": {},
   "outputs": [],
   "source": [
    "const res = open(\"data0.json\", \"r\") do f\n",
    "    data = readstring(f)\n",
    "    JSON.Parser.parse(data)\n",
    "end\n",
    "\n",
    "const maxwidth = res[\"maxwidth\"]\n",
    "const cost = res[\"cost\"]\n",
    "const prices = Float64.(res[\"prices\"])\n",
    "const widths = Float64.(res[\"widths\"])\n",
    "const demand = Float64.(res[\"demand\"])\n",
    "const nwidths = length(prices);"
   ]
  },
  {
   "cell_type": "code",
   "execution_count": 3,
   "metadata": {},
   "outputs": [
    {
     "data": {
      "text/plain": [
       "subproblem"
      ]
     },
     "execution_count": 3,
     "metadata": {},
     "output_type": "execute_result"
    }
   ],
   "source": [
    "\"\"\"\n",
    "    subproblem tries to find the best feasible pattern \n",
    "    maximizing reduced cost and respecting max roll width\n",
    "    corresponding to a multiple-item knapsack\n",
    "\"\"\"\n",
    "function subproblem(reduced_costs, sizes, maxcapacity)\n",
    "    subm = Model(solver = CbcSolver())\n",
    "    n = length(reduced_costs)\n",
    "    xs = @variable(subm, xs[1:n] >= 0, Int)\n",
    "    @constraint(subm, sum(xs.*sizes) <= maxcapacity)\n",
    "    @objective(subm, Max, sum(xs.*reduced_costs))\n",
    "    solve(subm)\n",
    "    return round.(Int,getvalue(xs)), round(Int,getobjectivevalue(subm))\n",
    "end"
   ]
  },
  {
   "cell_type": "code",
   "execution_count": 4,
   "metadata": {},
   "outputs": [
    {
     "data": {
      "text/plain": [
       "init_master (generic function with 1 method)"
      ]
     },
     "execution_count": 4,
     "metadata": {},
     "output_type": "execute_result"
    }
   ],
   "source": [
    "function init_master(maxwidth, widths, rollcost, demand, prices)\n",
    "    n = length(widths)\n",
    "    ncols = length(widths)\n",
    "    patterns = spzeros(UInt16,n,ncols)\n",
    "    for i in 1:n\n",
    "        patterns[i,i] = min(floor(Int,maxwidth/widths[i]),round(Int,demand[i]))\n",
    "    end\n",
    "    m = Model(solver = ClpSolver())\n",
    "    θ = @variable(m, θ[1:ncols] >= 0)\n",
    "    @objective(m, Min,\n",
    "        sum(θ[p]*(rollcost - sum(patterns[j,p]*prices[j] for j=1:n)) for p in 1:ncols)\n",
    "    )\n",
    "    @constraint(m, demand_satisfaction[j=1:n], sum(patterns[j,p]*θ[p] for p in 1:ncols)>=demand[j])\n",
    "    if solve(m) != :Optimal\n",
    "        warn(\"No optimal\")\n",
    "    end\n",
    "    return (m, getvalue(θ), demand_satisfaction, patterns)\n",
    "end"
   ]
  },
  {
   "cell_type": "code",
   "execution_count": 5,
   "metadata": {},
   "outputs": [],
   "source": [
    "(m, θ, demand_satisfaction, patterns) = init_master(maxwidth, widths, cost, demand, prices);"
   ]
  },
  {
   "cell_type": "code",
   "execution_count": 6,
   "metadata": {},
   "outputs": [],
   "source": [
    "reduced_costs = getdual(demand_satisfaction)+prices;"
   ]
  },
  {
   "cell_type": "code",
   "execution_count": 7,
   "metadata": {},
   "outputs": [
    {
     "data": {
      "text/plain": [
       "([2, 0, 0, 0, 0, 0, 0, 0, 1, 0, 0, 0, 0, 1, 0, 0], 1193)"
      ]
     },
     "execution_count": 7,
     "metadata": {},
     "output_type": "execute_result"
    }
   ],
   "source": [
    "newcol, newobj = subproblem(reduced_costs, widths, maxwidth)"
   ]
  },
  {
   "cell_type": "code",
   "execution_count": 8,
   "metadata": {},
   "outputs": [
    {
     "data": {
      "text/plain": [
       "-443.18181818181824"
      ]
     },
     "execution_count": 8,
     "metadata": {},
     "output_type": "execute_result"
    }
   ],
   "source": [
    "netcost = (cost-sum(newcol[j]*(getdual(demand_satisfaction[j])+prices[j]) for j in 1:nwidths))"
   ]
  },
  {
   "cell_type": "code",
   "execution_count": 9,
   "metadata": {},
   "outputs": [
    {
     "data": {
      "text/plain": [
       "column_generation (generic function with 1 method)"
      ]
     },
     "execution_count": 9,
     "metadata": {},
     "output_type": "execute_result"
    }
   ],
   "source": [
    "function column_generation(maxwidth, widths, rollcost, demand, prices; maxcols = 5000)\n",
    "    (m, θ, demand_satisfaction, patterns) = init_master(maxwidth, widths, rollcost, demand, prices)\n",
    "    ncols = nwidths\n",
    "    while ncols <= maxcols\n",
    "        reduced_costs = getdual(demand_satisfaction) + prices\n",
    "        newcol, newobj = subproblem(reduced_costs, widths, maxwidth)\n",
    "        netcost = cost - sum(newcol[j]*(getdual(demand_satisfaction)[j]+prices[j]) for j in 1:nwidths)\n",
    "        println(\"New reduced cost: $netcost\")\n",
    "        if netcost >= 0\n",
    "            return (:Optimal, patterns, getvalue(θ))\n",
    "        end\n",
    "        patterns = hcat(patterns, newcol)\n",
    "        ncols += 1\n",
    "        m = Model(solver = ClpSolver())\n",
    "        θ = @variable(m, θ[1:ncols] >= 0)\n",
    "        @objective(m, Min,\n",
    "            sum(θ[p]*(rollcost - sum(patterns[j,p]*prices[j] for j=1:nwidths)) for p in 1:ncols)\n",
    "        )\n",
    "        @constraint(m, demand_satisfaction[j=1:nwidths], sum(patterns[j,p]*θ[p] for p in 1:ncols)>=demand[j])\n",
    "        if solve(m) != :Optimal\n",
    "            warn(\"No optimal\")\n",
    "            return (status(m), patterns, getvalue(θ))\n",
    "        end\n",
    "    end\n",
    "    return (:NotFound, patterns, :NoVariable)\n",
    "end"
   ]
  },
  {
   "cell_type": "code",
   "execution_count": 10,
   "metadata": {},
   "outputs": [
    {
     "name": "stdout",
     "output_type": "stream",
     "text": [
      "New reduced cost: -443.18181818181824\n",
      "New reduced cost: -375.0\n",
      "New reduced cost: -264.0\n",
      "New reduced cost: -250.0\n",
      "New reduced cost: -187.5\n",
      "New reduced cost: -150.0\n",
      "New reduced cost: -150.0\n",
      "New reduced cost: -107.14285714285711\n",
      "New reduced cost: -97.5\n",
      "New reduced cost: -107.14285714285734\n",
      "New reduced cost: -72.0\n",
      "New reduced cost: -53.571428571428555\n",
      "New reduced cost: -53.125\n",
      "New reduced cost: -50.0\n",
      "New reduced cost: -43.40625\n",
      "New reduced cost: -36.0\n",
      "New reduced cost: -34.625\n",
      "New reduced cost: -41.5\n",
      "New reduced cost: -21.8515625\n",
      "New reduced cost: -22.159090909090878\n",
      "New reduced cost: -20.625\n",
      "New reduced cost: -16.304347826086314\n",
      "New reduced cost: -16.304347826086996\n",
      "New reduced cost: -20.310344827586277\n",
      "New reduced cost: -18.0\n",
      "New reduced cost: -8.837209302325732\n",
      "New reduced cost: -6.060606060606119\n",
      "New reduced cost: 0.0\n"
     ]
    },
    {
     "data": {
      "text/plain": [
       ":Optimal"
      ]
     },
     "execution_count": 10,
     "metadata": {},
     "output_type": "execute_result"
    }
   ],
   "source": [
    "status, patterns, θ = column_generation(maxwidth, widths, cost, demand, prices, maxcols = 500);\n",
    "status"
   ]
  },
  {
   "cell_type": "code",
   "execution_count": 18,
   "metadata": {},
   "outputs": [
    {
     "name": "stdout",
     "output_type": "stream",
     "text": [
      "446.1000000000001\n"
     ]
    }
   ],
   "source": [
    "# take worse case from linear solution, round up \n",
    "intial_integer = ceil.(Int,θ);\n",
    "println(sum(θ))"
   ]
  },
  {
   "cell_type": "code",
   "execution_count": 20,
   "metadata": {},
   "outputs": [
    {
     "data": {
      "text/plain": [
       "branched_model"
      ]
     },
     "execution_count": 20,
     "metadata": {},
     "output_type": "execute_result"
    }
   ],
   "source": [
    "\"\"\"\n",
    "    From patterns built in the column generation phase, find an integer solution\n",
    "\"\"\"function branched_model(patterns, demand, rollcost, prices; npatts = size(patterns)[2], initial_point = zeros(Int,npatts))\n",
    "    npatts = size(patterns)[2]\n",
    "    m = Model(solver = CbcSolver())\n",
    "    θ = @variable(m, θ[p = 1:npatts] >= 0, Int, start = initial_point[p])\n",
    "    @objective(m, Min,\n",
    "        sum(θ[p]*(rollcost - sum(patterns[j,p]*prices[j] for j=1:nwidths)) for p in 1:npatts)\n",
    "    )\n",
    "    @constraint(m, demand_satisfaction[j=1:nwidths], sum(θ[p]*patterns[j,p] for p in 1:npatts) >= demand[j])\n",
    "    status = solve(m)\n",
    "    return (status, round.(Int,(getvalue(θ))))\n",
    "end"
   ]
  },
  {
   "cell_type": "code",
   "execution_count": 21,
   "metadata": {},
   "outputs": [
    {
     "name": "stdout",
     "output_type": "stream",
     "text": [
      "Presolve 0 (-16) rows, 0 (-43) columns and 0 (-83) elements\n",
      "Optimal - objective value 154188\n",
      "After Postsolve, objective 154188, infeasibilities - dual 0 (0), primal 0 (0)\n",
      "Optimal objective 154188 - 0 iterations time 0.002, Presolve 0.00\n",
      "Cbc0045I Solution with objective value 154188 saved\n"
     ]
    },
    {
     "data": {
      "text/plain": [
       "(:Optimal, [0, 0, 0, 0, 0, 0, 0, 0, 0, 0  …  58, 32, 0, 2, 44, 43, 50, 19, 5, 6])"
      ]
     },
     "execution_count": 21,
     "metadata": {},
     "output_type": "execute_result"
    }
   ],
   "source": [
    "status, θ_final = branched_model(patterns, demand, cost, prices; initial_point = intial_integer)"
   ]
  },
  {
   "cell_type": "code",
   "execution_count": null,
   "metadata": {},
   "outputs": [],
   "source": [
    "Int.(patterns)"
   ]
  },
  {
   "cell_type": "code",
   "execution_count": null,
   "metadata": {},
   "outputs": [],
   "source": [
    "# final excess rolls\n",
    "patterns * θ_final - demand"
   ]
  },
  {
   "cell_type": "code",
   "execution_count": 22,
   "metadata": {},
   "outputs": [
    {
     "data": {
      "text/plain": [
       "447"
      ]
     },
     "execution_count": 22,
     "metadata": {},
     "output_type": "execute_result"
    }
   ],
   "source": [
    "sum(θ_final)"
   ]
  },
  {
   "cell_type": "code",
   "execution_count": null,
   "metadata": {},
   "outputs": [],
   "source": []
  }
 ],
 "metadata": {
  "kernelspec": {
   "display_name": "Julia 0.6.2",
   "language": "julia",
   "name": "julia-0.6"
  },
  "language_info": {
   "file_extension": ".jl",
   "mimetype": "application/julia",
   "name": "julia",
   "version": "0.6.2"
  }
 },
 "nbformat": 4,
 "nbformat_minor": 2
}
