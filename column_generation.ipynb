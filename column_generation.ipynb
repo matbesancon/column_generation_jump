{
 "cells": [
  {
   "cell_type": "code",
   "execution_count": 1,
   "metadata": {},
   "outputs": [
    {
     "data": {
      "text/plain": [
       "\"/home/mbesancon/Documents/CTests/column_generation_jump/Project.toml\""
      ]
     },
     "execution_count": 1,
     "metadata": {},
     "output_type": "execute_result"
    }
   ],
   "source": [
    "import Pkg\n",
    "Pkg.activate(\".\")"
   ]
  },
  {
   "cell_type": "code",
   "execution_count": 7,
   "metadata": {},
   "outputs": [],
   "source": [
    "using JuMP\n",
    "import Cbc\n",
    "import Clp\n",
    "import JSON\n",
    "using SparseArrays: spzeros"
   ]
  },
  {
   "cell_type": "code",
   "execution_count": 4,
   "metadata": {},
   "outputs": [],
   "source": [
    "const res = open(\"data0.json\", \"r\") do f\n",
    "    data = read(f, String)\n",
    "    JSON.Parser.parse(data)\n",
    "end\n",
    "\n",
    "const maxwidth = res[\"maxwidth\"]\n",
    "const cost = res[\"cost\"]\n",
    "const prices = Float64.(res[\"prices\"])\n",
    "const widths = Float64.(res[\"widths\"])\n",
    "const demand = Float64.(res[\"demand\"])\n",
    "const nwidths = length(prices);"
   ]
  },
  {
   "cell_type": "code",
   "execution_count": 33,
   "metadata": {},
   "outputs": [
    {
     "data": {
      "text/plain": [
       "subproblem"
      ]
     },
     "execution_count": 33,
     "metadata": {},
     "output_type": "execute_result"
    }
   ],
   "source": [
    "\"\"\"\n",
    "    subproblem tries to find the best feasible pattern \n",
    "    maximizing reduced cost and respecting max roll width\n",
    "    corresponding to a multiple-item knapsack\n",
    "\"\"\"\n",
    "function subproblem(reduced_costs, sizes, maxcapacity)\n",
    "    subm = Model(with_optimizer(Cbc.Optimizer, LogLevel = 0))\n",
    "    n = length(reduced_costs)\n",
    "    xs = @variable(subm, xs[1:n] >= 0, Int)\n",
    "    @constraint(subm, sum(xs.*sizes) <= maxcapacity)\n",
    "    @objective(subm, Max, sum(xs.*reduced_costs))\n",
    "    optimize!(subm)\n",
    "    return round.(Int,JuMP.value.(xs)), round(Int, JuMP.objective_value(subm))\n",
    "end"
   ]
  },
  {
   "cell_type": "code",
   "execution_count": 34,
   "metadata": {},
   "outputs": [
    {
     "data": {
      "text/plain": [
       "init_master (generic function with 1 method)"
      ]
     },
     "execution_count": 34,
     "metadata": {},
     "output_type": "execute_result"
    }
   ],
   "source": [
    "function init_master(maxwidth, widths, rollcost, demand, prices)\n",
    "    n = length(widths)\n",
    "    ncols = length(widths)\n",
    "    patterns = spzeros(UInt16,n,ncols)\n",
    "    for i in 1:n\n",
    "        patterns[i,i] = min(floor(Int,maxwidth/widths[i]),round(Int,demand[i]))\n",
    "    end\n",
    "    m = Model(with_optimizer(Clp.Optimizer, LogLevel = 0))\n",
    "    θ = @variable(m, θ[1:ncols] >= 0)\n",
    "    @objective(m, Min,\n",
    "        sum(θ[p]*(rollcost - sum(patterns[j,p]*prices[j] for j=1:n)) for p in 1:ncols)\n",
    "    )\n",
    "    @constraint(m, demand_satisfaction[j=1:n], sum(patterns[j,p]*θ[p] for p in 1:ncols) >= demand[j])\n",
    "    optimize!(m)\n",
    "    if termination_status(m) != MOI.OPTIMAL\n",
    "        @warn(\"No optimal solution\")\n",
    "    end\n",
    "    return (m, JuMP.value.(θ), demand_satisfaction, patterns)\n",
    "end"
   ]
  },
  {
   "cell_type": "code",
   "execution_count": 35,
   "metadata": {},
   "outputs": [],
   "source": [
    "(m, θ, demand_satisfaction, patterns) = init_master(maxwidth, widths, cost, demand, prices);"
   ]
  },
  {
   "cell_type": "code",
   "execution_count": 36,
   "metadata": {},
   "outputs": [],
   "source": [
    "reduced_costs = JuMP.dual.(demand_satisfaction) + prices;"
   ]
  },
  {
   "cell_type": "code",
   "execution_count": 37,
   "metadata": {},
   "outputs": [
    {
     "name": "stdout",
     "output_type": "stream",
     "text": [
      "Welcome to the CBC MILP Solver \n",
      "Version: 2.9.9 \n",
      "Build Date: Dec 31 2018 \n",
      "\n",
      "command line - Cbc_C_Interface -LogLevel 0 -solve -quit (default strategy 1)\n"
     ]
    },
    {
     "data": {
      "text/plain": [
       "([2, 0, 0, 0, 0, 0, 0, 0, 1, 0, 0, 0, 0, 1, 0, 0], 1193)"
      ]
     },
     "execution_count": 37,
     "metadata": {},
     "output_type": "execute_result"
    }
   ],
   "source": [
    "newcol, newobj = subproblem(reduced_costs, widths, maxwidth)"
   ]
  },
  {
   "cell_type": "code",
   "execution_count": 38,
   "metadata": {},
   "outputs": [
    {
     "data": {
      "text/plain": [
       "-443.18181818181824"
      ]
     },
     "execution_count": 38,
     "metadata": {},
     "output_type": "execute_result"
    }
   ],
   "source": [
    "netcost = (cost-sum(newcol[j]*(JuMP.dual(demand_satisfaction[j])+prices[j]) for j in 1:nwidths))"
   ]
  },
  {
   "cell_type": "code",
   "execution_count": 39,
   "metadata": {},
   "outputs": [
    {
     "data": {
      "text/plain": [
       "column_generation (generic function with 1 method)"
      ]
     },
     "execution_count": 39,
     "metadata": {},
     "output_type": "execute_result"
    }
   ],
   "source": [
    "function column_generation(maxwidth, widths, rollcost, demand, prices; maxcols = 5000)\n",
    "    (m, θ, demand_satisfaction, patterns) = init_master(maxwidth, widths, rollcost, demand, prices)\n",
    "    ncols = nwidths\n",
    "    while ncols <= maxcols\n",
    "        reduced_costs = JuMP.dual.(demand_satisfaction) + prices\n",
    "        newcol, newobj = subproblem(reduced_costs, widths, maxwidth)\n",
    "        netcost = cost - sum(newcol[j]*(JuMP.dual.(demand_satisfaction)[j]+prices[j]) for j in 1:nwidths)\n",
    "        @info \"New reduced cost: $netcost\"\n",
    "        if netcost >= 0.0\n",
    "            return (MOI.OPTIMAL, patterns, JuMP.value.(θ))\n",
    "        end\n",
    "        patterns = hcat(patterns, newcol)\n",
    "        ncols += 1\n",
    "        m = Model(with_optimizer(Clp.Optimizer, LogLevel = 0))\n",
    "        θ = @variable(m, θ[1:ncols] >= 0)\n",
    "        @objective(m, Min,\n",
    "            sum(θ[p]*(rollcost - sum(patterns[j,p]*prices[j] for j=1:nwidths)) for p in 1:ncols)\n",
    "        )\n",
    "        @constraint(m, demand_satisfaction[j=1:nwidths], sum(patterns[j,p]*θ[p] for p in 1:ncols)>=demand[j])\n",
    "        optimize!(m)\n",
    "        if termination_status(m) != MOI.OPTIMAL\n",
    "            @warn(\"No optimal\")\n",
    "            return (termination_status(m), patterns, getvalue(θ))\n",
    "        end\n",
    "    end\n",
    "    return (:NotFound, patterns, :NoVariable)\n",
    "end"
   ]
  },
  {
   "cell_type": "code",
   "execution_count": 40,
   "metadata": {},
   "outputs": [
    {
     "name": "stdout",
     "output_type": "stream",
     "text": [
      "Welcome to the CBC MILP Solver \n",
      "Version: 2.9.9 \n",
      "Build Date: Dec 31 2018 \n",
      "\n",
      "command line - Cbc_C_Interface -LogLevel 0 -solve -quit (default strategy 1)\n",
      "Welcome to the CBC MILP Solver \n",
      "Version: 2.9.9 \n",
      "Build Date: Dec 31 2018 \n",
      "\n",
      "command line - Cbc_C_Interface -LogLevel 0 -solve -quit (default strategy 1)\n",
      "Welcome to the CBC MILP Solver \n",
      "Version: 2.9.9 \n",
      "Build Date: Dec 31 2018 \n",
      "\n",
      "command line - Cbc_C_Interface -LogLevel 0 -solve -quit (default strategy 1)\n",
      "Welcome to the CBC MILP Solver \n",
      "Version: 2.9.9 \n",
      "Build Date: Dec 31 2018 \n",
      "\n",
      "command line - Cbc_C_Interface -LogLevel 0 -solve -quit (default strategy 1)\n",
      "Welcome to the CBC MILP Solver \n",
      "Version: 2.9.9 \n",
      "Build Date: Dec 31 2018 \n",
      "\n",
      "command line - Cbc_C_Interface -LogLevel 0 -solve -quit (default strategy 1)\n",
      "Welcome to the CBC MILP Solver \n",
      "Version: 2.9.9 \n",
      "Build Date: Dec 31 2018 \n",
      "\n",
      "command line - Cbc_C_Interface -LogLevel 0 -solve -quit (default strategy 1)\n",
      "Welcome to the CBC MILP Solver \n",
      "Version: 2.9.9 \n",
      "Build Date: Dec 31 2018 \n",
      "\n",
      "command line - Cbc_C_Interface -LogLevel 0 -solve -quit (default strategy 1)\n",
      "Welcome to the CBC MILP Solver \n",
      "Version: 2.9.9 \n",
      "Build Date: Dec 31 2018 \n",
      "\n",
      "command line - Cbc_C_Interface -LogLevel 0 -solve -quit (default strategy 1)\n"
     ]
    },
    {
     "name": "stderr",
     "output_type": "stream",
     "text": [
      "┌ Info: New reduced cost: -443.18181818181824\n",
      "└ @ Main In[39]:8\n",
      "┌ Info: New reduced cost: -375.0\n",
      "└ @ Main In[39]:8\n",
      "┌ Info: New reduced cost: -264.0\n",
      "└ @ Main In[39]:8\n",
      "┌ Info: New reduced cost: -250.0\n",
      "└ @ Main In[39]:8\n",
      "┌ Info: New reduced cost: -187.5\n",
      "└ @ Main In[39]:8\n",
      "┌ Info: New reduced cost: -150.0\n",
      "└ @ Main In[39]:8\n",
      "┌ Info: New reduced cost: -150.0\n",
      "└ @ Main In[39]:8\n",
      "┌ Info: New reduced cost: -107.14285714285711\n",
      "└ @ Main In[39]:8\n"
     ]
    },
    {
     "name": "stdout",
     "output_type": "stream",
     "text": [
      "Welcome to the CBC MILP Solver \n",
      "Version: 2.9.9 \n",
      "Build Date: Dec 31 2018 \n",
      "\n",
      "command line - Cbc_C_Interface -LogLevel 0 -solve -quit (default strategy 1)\n",
      "Welcome to the CBC MILP Solver \n",
      "Version: 2.9.9 \n",
      "Build Date: Dec 31 2018 \n",
      "\n",
      "command line - Cbc_C_Interface -LogLevel 0 -solve -quit (default strategy 1)\n",
      "Welcome to the CBC MILP Solver \n",
      "Version: 2.9.9 \n",
      "Build Date: Dec 31 2018 \n",
      "\n",
      "command line - Cbc_C_Interface -LogLevel 0 -solve -quit (default strategy 1)\n",
      "Welcome to the CBC MILP Solver \n",
      "Version: 2.9.9 \n",
      "Build Date: Dec 31 2018 \n",
      "\n",
      "command line - Cbc_C_Interface -LogLevel 0 -solve -quit (default strategy 1)\n"
     ]
    },
    {
     "name": "stderr",
     "output_type": "stream",
     "text": [
      "┌ Info: New reduced cost: -97.5\n",
      "└ @ Main In[39]:8\n",
      "┌ Info: New reduced cost: -107.14285714285734\n",
      "└ @ Main In[39]:8\n",
      "┌ Info: New reduced cost: -72.0\n",
      "└ @ Main In[39]:8\n",
      "┌ Info: New reduced cost: -53.571428571428555\n",
      "└ @ Main In[39]:8\n"
     ]
    },
    {
     "name": "stdout",
     "output_type": "stream",
     "text": [
      "Welcome to the CBC MILP Solver \n",
      "Version: 2.9.9 \n",
      "Build Date: Dec 31 2018 \n",
      "\n",
      "command line - Cbc_C_Interface -LogLevel 0 -solve -quit (default strategy 1)\n",
      "Welcome to the CBC MILP Solver \n",
      "Version: 2.9.9 \n",
      "Build Date: Dec 31 2018 \n",
      "\n",
      "command line - Cbc_C_Interface -LogLevel 0 -solve -quit (default strategy 1)\n",
      "Welcome to the CBC MILP Solver \n",
      "Version: 2.9.9 \n",
      "Build Date: Dec 31 2018 \n",
      "\n",
      "command line - Cbc_C_Interface -LogLevel 0 -solve -quit (default strategy 1)\n",
      "Welcome to the CBC MILP Solver \n",
      "Version: 2.9.9 \n",
      "Build Date: Dec 31 2018 \n",
      "\n",
      "command line - Cbc_C_Interface -LogLevel 0 -solve -quit (default strategy 1)\n"
     ]
    },
    {
     "name": "stderr",
     "output_type": "stream",
     "text": [
      "┌ Info: New reduced cost: -53.125\n",
      "└ @ Main In[39]:8\n",
      "┌ Info: New reduced cost: -50.0\n",
      "└ @ Main In[39]:8\n",
      "┌ Info: New reduced cost: -43.40625\n",
      "└ @ Main In[39]:8\n",
      "┌ Info: New reduced cost: -36.0\n",
      "└ @ Main In[39]:8\n"
     ]
    },
    {
     "name": "stdout",
     "output_type": "stream",
     "text": [
      "Welcome to the CBC MILP Solver \n",
      "Version: 2.9.9 \n",
      "Build Date: Dec 31 2018 \n",
      "\n",
      "command line - Cbc_C_Interface -LogLevel 0 -solve -quit (default strategy 1)\n",
      "Welcome to the CBC MILP Solver \n",
      "Version: 2.9.9 \n",
      "Build Date: Dec 31 2018 \n",
      "\n",
      "command line - Cbc_C_Interface -LogLevel 0 -solve -quit (default strategy 1)\n",
      "Welcome to the CBC MILP Solver \n",
      "Version: 2.9.9 \n",
      "Build Date: Dec 31 2018 \n",
      "\n",
      "command line - Cbc_C_Interface -LogLevel 0 -solve -quit (default strategy 1)\n",
      "Welcome to the CBC MILP Solver \n",
      "Version: 2.9.9 \n",
      "Build Date: Dec 31 2018 \n",
      "\n",
      "command line - Cbc_C_Interface -LogLevel 0 -solve -quit (default strategy 1)\n"
     ]
    },
    {
     "name": "stderr",
     "output_type": "stream",
     "text": [
      "┌ Info: New reduced cost: -34.625\n",
      "└ @ Main In[39]:8\n",
      "┌ Info: New reduced cost: -41.5\n",
      "└ @ Main In[39]:8\n",
      "┌ Info: New reduced cost: -21.8515625\n",
      "└ @ Main In[39]:8\n",
      "┌ Info: New reduced cost: -22.159090909090878\n",
      "└ @ Main In[39]:8\n"
     ]
    },
    {
     "name": "stdout",
     "output_type": "stream",
     "text": [
      "Welcome to the CBC MILP Solver \n",
      "Version: 2.9.9 \n",
      "Build Date: Dec 31 2018 \n",
      "\n",
      "command line - Cbc_C_Interface -LogLevel 0 -solve -quit (default strategy 1)\n",
      "Welcome to the CBC MILP Solver \n",
      "Version: 2.9.9 \n",
      "Build Date: Dec 31 2018 \n",
      "\n",
      "command line - Cbc_C_Interface -LogLevel 0 -solve -quit (default strategy 1)\n"
     ]
    },
    {
     "name": "stderr",
     "output_type": "stream",
     "text": [
      "┌ Info: New reduced cost: -20.625\n",
      "└ @ Main In[39]:8\n",
      "┌ Info: New reduced cost: -16.304347826086314\n",
      "└ @ Main In[39]:8\n"
     ]
    },
    {
     "name": "stdout",
     "output_type": "stream",
     "text": [
      "Welcome to the CBC MILP Solver \n",
      "Version: 2.9.9 \n",
      "Build Date: Dec 31 2018 \n",
      "\n",
      "command line - Cbc_C_Interface -LogLevel 0 -solve -quit (default strategy 1)\n",
      "Welcome to the CBC MILP Solver \n",
      "Version: 2.9.9 \n",
      "Build Date: Dec 31 2018 \n",
      "\n",
      "command line - Cbc_C_Interface -LogLevel 0 -solve -quit (default strategy 1)\n",
      "Welcome to the CBC MILP Solver \n",
      "Version: 2.9.9 \n",
      "Build Date: Dec 31 2018 \n",
      "\n",
      "command line - Cbc_C_Interface -LogLevel 0 -solve -quit (default strategy 1)\n",
      "Welcome to the CBC MILP Solver \n",
      "Version: 2.9.9 \n",
      "Build Date: Dec 31 2018 \n",
      "\n",
      "command line - Cbc_C_Interface -LogLevel 0 -solve -quit (default strategy 1)\n"
     ]
    },
    {
     "name": "stderr",
     "output_type": "stream",
     "text": [
      "┌ Info: New reduced cost: -16.304347826086996\n",
      "└ @ Main In[39]:8\n",
      "┌ Info: New reduced cost: -20.310344827586277\n",
      "└ @ Main In[39]:8\n",
      "┌ Info: New reduced cost: -18.0\n",
      "└ @ Main In[39]:8\n",
      "┌ Info: New reduced cost: -8.837209302325732\n",
      "└ @ Main In[39]:8\n"
     ]
    },
    {
     "name": "stdout",
     "output_type": "stream",
     "text": [
      "Welcome to the CBC MILP Solver \n",
      "Version: 2.9.9 \n",
      "Build Date: Dec 31 2018 \n",
      "\n",
      "command line - Cbc_C_Interface -LogLevel 0 -solve -quit (default strategy 1)\n",
      "Welcome to the CBC MILP Solver \n",
      "Version: 2.9.9 \n",
      "Build Date: Dec 31 2018 \n",
      "\n",
      "command line - Cbc_C_Interface -LogLevel 0 -solve -quit (default strategy 1)\n"
     ]
    },
    {
     "name": "stderr",
     "output_type": "stream",
     "text": [
      "┌ Info: New reduced cost: -5.846153846153811\n",
      "└ @ Main In[39]:8\n",
      "┌ Info: New reduced cost: -6.0606060606060055\n",
      "└ @ Main In[39]:8\n"
     ]
    },
    {
     "name": "stdout",
     "output_type": "stream",
     "text": [
      "Welcome to the CBC MILP Solver \n",
      "Version: 2.9.9 \n",
      "Build Date: Dec 31 2018 \n",
      "\n",
      "command line - Cbc_C_Interface -LogLevel 0 -solve -quit (default strategy 1)\n",
      "Welcome to the CBC MILP Solver \n",
      "Version: 2.9.9 \n",
      "Build Date: Dec 31 2018 \n",
      "\n",
      "command line - Cbc_C_Interface -LogLevel 0 -solve -quit (default strategy 1)\n"
     ]
    },
    {
     "name": "stderr",
     "output_type": "stream",
     "text": [
      "┌ Info: New reduced cost: -0.5069124423963558\n",
      "└ @ Main In[39]:8\n",
      "┌ Info: New reduced cost: 0.0\n",
      "└ @ Main In[39]:8\n"
     ]
    },
    {
     "data": {
      "text/plain": [
       "OPTIMAL::TerminationStatusCode = 1"
      ]
     },
     "execution_count": 40,
     "metadata": {},
     "output_type": "execute_result"
    }
   ],
   "source": [
    "status, patterns, θ = column_generation(maxwidth, widths, cost, demand, prices, maxcols = 500);\n",
    "status"
   ]
  },
  {
   "cell_type": "code",
   "execution_count": 41,
   "metadata": {},
   "outputs": [
    {
     "name": "stdout",
     "output_type": "stream",
     "text": [
      "446.1\n"
     ]
    }
   ],
   "source": [
    "# take worse case from linear solution, round up \n",
    "intial_integer = ceil.(Int,θ);\n",
    "println(sum(θ))"
   ]
  },
  {
   "cell_type": "code",
   "execution_count": 42,
   "metadata": {},
   "outputs": [
    {
     "data": {
      "text/plain": [
       "branched_model"
      ]
     },
     "execution_count": 42,
     "metadata": {},
     "output_type": "execute_result"
    }
   ],
   "source": [
    "\"\"\"\n",
    "    From patterns built in the column generation phase, find an integer solution\n",
    "\"\"\"\n",
    "function branched_model(patterns, demand, rollcost, prices; npatts = size(patterns)[2], initial_point = zeros(Int,npatts))\n",
    "    npatts = size(patterns)[2]\n",
    "    m = Model(with_optimizer(Cbc.Optimizer, LogLevel = 0))\n",
    "    θ = @variable(m, θ[p = 1:npatts] >= 0, Int, start = initial_point[p])\n",
    "    @objective(m, Min,\n",
    "        sum(θ[p]*(rollcost - sum(patterns[j,p]*prices[j] for j=1:nwidths)) for p in 1:npatts)\n",
    "    )\n",
    "    @constraint(m, demand_satisfaction[j=1:nwidths], sum(θ[p]*patterns[j,p] for p in 1:npatts) >= demand[j])\n",
    "    optimize!(m)\n",
    "    return (termination_status(m), round.(Int,(JuMP.value.(θ))))\n",
    "end"
   ]
  },
  {
   "cell_type": "code",
   "execution_count": 43,
   "metadata": {},
   "outputs": [
    {
     "name": "stderr",
     "output_type": "stream",
     "text": [
      "┌ Warning: MathOptInterface.VariablePrimalStart() is not supported by MathOptInterface.Bridges.LazyBridgeOptimizer{MathOptInterface.Utilities.CachingOptimizer{Cbc.Optimizer,MathOptInterface.Utilities.UniversalFallback{JuMP._MOIModel{Float64}}},MathOptInterface.Utilities.UniversalFallback{MathOptInterface.Bridges.AllBridgedConstraints{Float64}}}. This \n",
      "│   information will be discarded. = information will be discarded.\n",
      "└ @ MathOptInterface.Utilities /home/mbesancon/.julia/packages/MathOptInterface/C3lip/src/Utilities/copy.jl:133\n"
     ]
    },
    {
     "name": "stdout",
     "output_type": "stream",
     "text": [
      "Welcome to the CBC MILP Solver \n",
      "Version: 2.9.9 \n",
      "Build Date: Dec 31 2018 \n",
      "\n",
      "command line - Cbc_C_Interface -LogLevel 0 -solve -quit (default strategy 1)\n"
     ]
    },
    {
     "data": {
      "text/plain": [
       "(OPTIMAL::TerminationStatusCode = 1, [0, 0, 0, 0, 0, 0, 0, 0, 0, 0  …  0, 2, 44, 43, 55, 19, 0, 5, 5, 1])"
      ]
     },
     "execution_count": 43,
     "metadata": {},
     "output_type": "execute_result"
    }
   ],
   "source": [
    "status, θ_final = branched_model(patterns, demand, cost, prices; initial_point = intial_integer)"
   ]
  },
  {
   "cell_type": "code",
   "execution_count": 44,
   "metadata": {},
   "outputs": [
    {
     "data": {
      "text/plain": [
       "16×45 SparseArrays.SparseMatrixCSC{Int64,Int64} with 88 stored entries:\n",
       "  [1 ,  1]  =  22\n",
       "  [2 ,  2]  =  7\n",
       "  [3 ,  3]  =  5\n",
       "  [4 ,  4]  =  4\n",
       "  [5 ,  5]  =  4\n",
       "  [6 ,  6]  =  3\n",
       "  [7 ,  7]  =  3\n",
       "  [8 ,  8]  =  3\n",
       "  [9 ,  9]  =  2\n",
       "  [10, 10]  =  2\n",
       "  [11, 11]  =  2\n",
       "  [12, 12]  =  2\n",
       "  ⋮\n",
       "  [12, 41]  =  1\n",
       "  [2 , 42]  =  5\n",
       "  [8 , 42]  =  1\n",
       "  [2 , 43]  =  1\n",
       "  [8 , 43]  =  1\n",
       "  [14, 43]  =  1\n",
       "  [6 , 44]  =  1\n",
       "  [8 , 44]  =  1\n",
       "  [11, 44]  =  1\n",
       "  [6 , 45]  =  1\n",
       "  [9 , 45]  =  1\n",
       "  [10, 45]  =  1"
      ]
     },
     "execution_count": 44,
     "metadata": {},
     "output_type": "execute_result"
    }
   ],
   "source": [
    "Int.(patterns)"
   ]
  },
  {
   "cell_type": "code",
   "execution_count": 45,
   "metadata": {},
   "outputs": [
    {
     "data": {
      "text/plain": [
       "16-element Array{Float64,1}:\n",
       " 22.0\n",
       "  1.0\n",
       "  0.0\n",
       "  0.0\n",
       "  0.0\n",
       "  2.0\n",
       "  0.0\n",
       "  0.0\n",
       "  0.0\n",
       "  0.0\n",
       "  0.0\n",
       "  0.0\n",
       "  0.0\n",
       "  0.0\n",
       "  0.0\n",
       "  0.0"
      ]
     },
     "execution_count": 45,
     "metadata": {},
     "output_type": "execute_result"
    }
   ],
   "source": [
    "# final excess rolls\n",
    "patterns * θ_final - demand"
   ]
  },
  {
   "cell_type": "code",
   "execution_count": 46,
   "metadata": {},
   "outputs": [
    {
     "data": {
      "text/plain": [
       "447"
      ]
     },
     "execution_count": 46,
     "metadata": {},
     "output_type": "execute_result"
    }
   ],
   "source": [
    "sum(θ_final)"
   ]
  },
  {
   "cell_type": "code",
   "execution_count": null,
   "metadata": {},
   "outputs": [],
   "source": []
  }
 ],
 "metadata": {
  "kernelspec": {
   "display_name": "Julia 1.1.1",
   "language": "julia",
   "name": "julia-1.1"
  },
  "language_info": {
   "file_extension": ".jl",
   "mimetype": "application/julia",
   "name": "julia",
   "version": "1.1.1"
  }
 },
 "nbformat": 4,
 "nbformat_minor": 2
}
